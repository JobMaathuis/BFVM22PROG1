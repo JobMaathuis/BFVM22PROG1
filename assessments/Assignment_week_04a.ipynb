{
 "cells": [
  {
   "cell_type": "markdown",
   "metadata": {},
   "source": [
    "# Week 04a Assignment weather data\n",
    "\n",
    "Welcome to week four of this course programming 1. Analyzing time related data such as estimating seasonal effect, or year effect might be a challenge. How to filter the essential information from the noise? How to apply signal analysis with noisy data. How to make compact useful visualizations? Python has several constructs to handle date time related data. The relevant classes for making plots are Locators and Formatters. Locators determine where the ticks are, and formatters control the formatting of tick labels. The relevant class for date time data is the pandas datetime data type, which has methods like resample and several possibilities to display data (frequencies). As a study case we will work with weather data. If you have data that fits the learning goals, you can bring your own data.\n",
    "\n",
    "Keywords: signal processing, smoothing, resample, formatters and locators, datetime object\n",
    "\n",
    "More to read: \n",
    "\n",
    "- https://fennaf.gitbook.io/bfvm22prog1/\n",
    "- https://machinelearningmastery.com/time-series-data-visualization-with-python/\n",
    "- https://towardsdatascience.com/how-to-plot-time-series-86b5358197d6\n",
    "- In the https://pandas.pydata.org/docs/reference/offset_frequency.html you can find more about frequencies and in the documentation\n",
    "- https://pandas.pydata.org/pandas-docs/stable/user_guide/timeseries.html you can read all the methods of this datetime object.\n",
    "- https://en.wikipedia.org/wiki/Smoothing\n",
    "\n",
    "\n",
    "Learning objectives\n",
    "\n",
    "- load, inspect and clean a dataset\n",
    "- reshape dataframes to group data in a certain frequency\n",
    "- apply smoothing technologies\n",
    "- Create useful visualisation with timeseries data\n",
    "- Maintain development environment \n",
    "- Apply coding standards and FAIR principles\n",
    "\n",
    "Please add topics you want to learn here: https://padlet.com/ffeenstra1/z9duo25d39dcgezz\n",
    "\n",
    "\n",
    "## Assignment\n",
    "\n",
    "You will to organise your data into the required format and apply smoothing. In this assignment we will work with weatherdata from the KNMI. A subset of weatherdata is for you available in the file: `KNMI_20181231`. The data consist of several stations with daily weather data of several years. Your task is to make a plot similar to the plot below. \n",
    "\n",
    "<img src=\"../images/weather.png\" alt=\"drawing\" width=\"400\"/>\n",
    "\n",
    "\n",
    "Furthermore the plot needs the following enhancements\n",
    "\n",
    "1. proper titles and ticks\n",
    "2. widgets selecting a particular year or all years\n",
    "3. lines need to be smoothed\n",
    "3. legends needs to be added\n",
    "\n",
    "Use your creativity. Consider colors, alpha settings, sizes etc. \n",
    "\n",
    "Learning outcomes\n",
    "\n",
    "- load, inspect and clean a dataset \n",
    "- reformat dataframes\n",
    "- apply smoothing technologies\n",
    "- visualize timeseries data\n",
    "\n",
    "The assignment consists of 6 parts:\n",
    "\n",
    "- [part 1: load the data](#0)\n",
    "- [part 2: clean the data](#1)\n",
    "- [part 3: reformat data](#2)\n",
    "- [part 4: smooth the data](#3)\n",
    "- [part 5: visualize the data](#4)\n",
    "- [part 6: Challenge](#5)\n",
    "\n",
    "Part 1 and 5 are mandatory, part 6 is optional (bonus)\n",
    "Mind you that you cannot copy code without referencing the code. If you copy code you need to be able to explain your code verbally and you will not get the full score. \n",
    "\n",
    "\n",
    "NB if you want to make a plot with more actual data you can download data from https://openweathermap.org/api \n"
   ]
  },
  {
   "cell_type": "markdown",
   "metadata": {},
   "source": [
    "---"
   ]
  },
  {
   "cell_type": "markdown",
   "metadata": {},
   "source": [
    "<a name='0'></a>\n",
    "## Part 1: Load the data\n",
    "\n",
    "Either load the dataset `KNMI_20181231.csv` or `KNMI_20181231.txt.tsv`. \n",
    "Preferably we read the data not with a hard coded data path but using a config file. See https://fennaf.gitbook.io/bfvm22prog1/data-processing/configuration-files/yaml. The dataheaders contain spaces and are not very self explainable. Change this into more readable ones. Select data from a station. Station 270 is in the neighborhood of Groningen. For our plot we only need the the mean, minimum and maximum temperature. Of course you are welcome to select other data if you think it might be useful for your visualization. The data should look something like this:\n"
   ]
  },
  {
   "cell_type": "raw",
   "metadata": {},
   "source": [
    "       station       Date  Tmean  Tmin  Tmax\n",
    "97641      270 2000-01-01   42.0  -4.0  79.0\n",
    "97642      270 2000-01-02   55.0  33.0  74.0\n",
    "97643      270 2000-01-03   74.0  49.0  89.0\n",
    "97644      270 2000-01-04   46.0  22.0  75.0\n",
    "97645      270 2000-01-05   41.0  14.0  56.0"
   ]
  },
  {
   "cell_type": "code",
   "execution_count": 189,
   "metadata": {},
   "outputs": [],
   "source": [
    "import yaml\n",
    "\n",
    "def get_config():\n",
    "    \"\"\" function that fetches the configuration \n",
    "    parameters from config.yaml\"\"\"\n",
    "    with open(\"./config.yaml\", 'r') as stream:\n",
    "        config = yaml.safe_load(stream)\n",
    "    return config\n",
    "\n",
    "config = get_config()\n",
    "knmi = config['knmi_data']"
   ]
  },
  {
   "cell_type": "code",
   "execution_count": 190,
   "metadata": {},
   "outputs": [],
   "source": [
    "import pandas as pd\n",
    "\n",
    "df = pd.read_csv(knmi, comment='#', header=None,\n",
    "                 dtype={2:'str', 3: 'str', 4:'str', 5: 'str', 6: 'str'},  # string datatype so we can remove NaN's later on\n",
    "                 names=['station','Date', 'Tmean', 'Tmin', 'Tmax', 'SQ', 'DR', 'RH'])"
   ]
  },
  {
   "cell_type": "markdown",
   "metadata": {},
   "source": [
    "---"
   ]
  },
  {
   "cell_type": "markdown",
   "metadata": {},
   "source": [
    "<a name='1'></a>\n",
    "## Part 2: Clean the data"
   ]
  },
  {
   "cell_type": "markdown",
   "metadata": {},
   "source": [
    "The data ia not clean. There are empty cells in the dataframe which needs to be replaced with NaN's and the temperature is in centidegrees which needs to be transformed into degrees. The date field needs a datetime format. For visualization convience we would like to remove the leap year. Conduct the cleaning."
   ]
  },
  {
   "cell_type": "code",
   "execution_count": 191,
   "metadata": {
    "scrolled": true
   },
   "outputs": [],
   "source": [
    "import numpy as np\n",
    "\n",
    "# replace cells with spaces to NaN\n",
    "df = df.replace(r'^\\s*$', np.nan, regex=True)\n",
    "\n",
    "# select relevant columns\n",
    "df = df.iloc[:,0:5]\n",
    "\n",
    "# change data formats\n",
    "df.Date = pd.to_datetime(df.Date, format='%Y%m%d')\n",
    "df.Tmean = pd.to_numeric(df.Tmean, errors='coerce')\n",
    "df.Tmin = pd.to_numeric(df.Tmin, errors='coerce')\n",
    "df.Tmax = pd.to_numeric(df.Tmax, errors='coerce')\n",
    "\n",
    "# change temperatures to degrees\n",
    "df.Tmean = df.Tmean / 10\n",
    "df.Tmin = df.Tmin / 10\n",
    "df.Tmax = df.Tmax / 10\n",
    "\n",
    "# remove leap year\n",
    "df = df[~df.Date.dt.is_leap_year]\n",
    "df_all = df.copy()  # used later in the (bonus) assignment to get all the data\n",
    "\n",
    "# select station\n",
    "df = df[df.station == 270]"
   ]
  },
  {
   "attachments": {},
   "cell_type": "markdown",
   "metadata": {},
   "source": [
    "To see the distribution and to check for possible outliers boxplots were made of the Tmin, Tmean and Tmax data."
   ]
  },
  {
   "cell_type": "code",
   "execution_count": 192,
   "metadata": {},
   "outputs": [
    {
     "data": {
      "image/png": "[encoded data removed]",
      "text/plain": [
       "<Figure size 640x480 with 1 Axes>"
      ]
     },
     "metadata": {},
     "output_type": "display_data"
    }
   ],
   "source": [
    "import seaborn as sns\n",
    "import matplotlib.pyplot as plt\n",
    "\n",
    "fig = sns.boxplot(data=[df.Tmin, df.Tmean, df.Tmax])\n",
    "fig.set_xticklabels(['Tmin', 'Tmean', 'Tmax'])\n",
    "fig.set_ylabel('tempearute (oC)')\n",
    "fig.set_title('Boxplot of Tmin, Tmean and Tmax data \\n from 2018 using station 270')\n",
    "plt.show(fig)"
   ]
  },
  {
   "attachments": {},
   "cell_type": "markdown",
   "metadata": {},
   "source": [
    "As can be seen all of the data have a nice distribution. Furthermore, the Tmean is inbetween the Tmin and Tmax which makes sense. However, Tmin shows a few outliers and Tmean shows one outlier. Before using this dataset these outliers need to be removed. This is done be replacing the value by a NaN so that the instead of removing the whole row. Other data in that row is still valid and needs to stay."
   ]
  },
  {
   "cell_type": "code",
   "execution_count": 193,
   "metadata": {},
   "outputs": [],
   "source": [
    "from scipy import stats\n",
    "\n",
    "# the outliers are removed using zscores which are below the threshold\n",
    "df.Tmin = df.Tmin[(np.abs(stats.zscore(df.Tmin)) < 3)]\n",
    "df.Tmean = df.Tmean[(np.abs(stats.zscore(df.Tmean)) < 3)]"
   ]
  },
  {
   "cell_type": "code",
   "execution_count": 194,
   "metadata": {},
   "outputs": [
    {
     "data": {
      "image/png": "[encoded data removed]",
      "text/plain": [
       "<Figure size 640x480 with 1 Axes>"
      ]
     },
     "metadata": {},
     "output_type": "display_data"
    }
   ],
   "source": [
    "import seaborn as sns\n",
    "import matplotlib.pyplot as plt\n",
    "\n",
    "fig = df.boxplot(column=['Tmin', 'Tmean', 'Tmax'])\n",
    "fig.set_xticklabels(['Tmin', 'Tmean', 'Tmax'])\n",
    "fig.set_ylabel('tempearute (oC)')\n",
    "fig.set_title('Boxplot of Tmin, Tmean and Tmax data \\n from 2018 using station 270 (excluded outliers)')\n",
    "plt.show(fig)"
   ]
  },
  {
   "cell_type": "markdown",
   "metadata": {},
   "source": [
    "<details>    \n",
    "<summary>\n",
    "    <font size=\"3\" color=\"darkgreen\"><b>Hints</b></font>\n",
    "</summary>\n",
    "<ul><li>pd.to_datetime(df['Date'].astype(str), format='%Y%m%d')</li>\n",
    "    <li>regex for empty cells = `^\\s*$` </li>\n",
    "    <li>remove month == 2 & day == 29</li> \n",
    "</ul>\n",
    "</details>"
   ]
  },
  {
   "cell_type": "code",
   "execution_count": 195,
   "metadata": {},
   "outputs": [
    {
     "name": "stdout",
     "output_type": "stream",
     "text": [
      "<class 'pandas.core.frame.DataFrame'>\n",
      "Int64Index: 5110 entries, 98007 to 104580\n",
      "Data columns (total 5 columns):\n",
      " #   Column   Non-Null Count  Dtype         \n",
      "---  ------   --------------  -----         \n",
      " 0   station  5110 non-null   int64         \n",
      " 1   Date     5110 non-null   datetime64[ns]\n",
      " 2   Tmean    5109 non-null   float64       \n",
      " 3   Tmin     5100 non-null   float64       \n",
      " 4   Tmax     5110 non-null   float64       \n",
      "dtypes: datetime64[ns](1), float64(3), int64(1)\n",
      "memory usage: 239.5 KB\n",
      "None\n"
     ]
    }
   ],
   "source": [
    "#Test your outcome\n",
    "#write code to check if you have done the above\n",
    "print(df.info())"
   ]
  },
  {
   "cell_type": "markdown",
   "metadata": {},
   "source": [
    "The expected outcome is different than my results. This is because a different file was used to obtain the expected outcome. The DateTimeIndex goes from 1951 to 2018, while my results go from 2000 to 2018. So eventhough it is not the same, you would expect that there are more entries in the expected outcome when compared to mine. This is the case and all the column and their datatypes are the same. For these reasons I am assuming my data is correct and continueing with this dataframe."
   ]
  },
  {
   "cell_type": "markdown",
   "metadata": {},
   "source": [
    "### Expected outcome"
   ]
  },
  {
   "cell_type": "raw",
   "metadata": {},
   "source": [
    "DatetimeIndex: 24820 entries, 1951-01-01 to 2018-12-31\n",
    "Data columns (total 5 columns):\n",
    " #   Column   Non-Null Count  Dtype         \n",
    "---  ------   --------------  -----         \n",
    " 0   station  24820 non-null  int64         \n",
    " 1   Date     24820 non-null  datetime64[ns]\n",
    " 2   Tmean    24819 non-null  float64       \n",
    " 3   Tmin     24819 non-null  float64       \n",
    " 4   Tmax     24819 non-null  float64       \n",
    "dtypes: datetime64[ns](1), float64(3), int64(1)\n",
    "memory usage: 1.1 MB"
   ]
  },
  {
   "cell_type": "markdown",
   "metadata": {},
   "source": [
    "---"
   ]
  },
  {
   "cell_type": "markdown",
   "metadata": {},
   "source": [
    "<a name='2'></a>\n",
    "## Part 3: Reform your data\n",
    "\n",
    "First we will split the data in data from 2018 and data before 2018. Best is to split this in two dataframes. \n",
    "Next we need for the non 2018 data the minimum values for each day and the maximum values for each day. So we look for the minimum value out of all january-01 minimum values (regardless the year). Create a dataframe with 365 days containing the ultimate minimum and the ultimate maximum per day. \n"
   ]
  },
  {
   "cell_type": "code",
   "execution_count": 196,
   "metadata": {},
   "outputs": [],
   "source": [
    "def month_day(df_multipleyears):\n",
    "    #your code to reform data here\n",
    "    df_groupedbymonthday = df_multipleyears.groupby([df_multipleyears.Date.dt.month.rename('month'), df_multipleyears.Date.dt.day.rename('day')]).Tmin.min()    \n",
    "    print(df_groupedbymonthday)"
   ]
  },
  {
   "cell_type": "code",
   "execution_count": 197,
   "metadata": {},
   "outputs": [
    {
     "name": "stdout",
     "output_type": "stream",
     "text": [
      "month  day\n",
      "1      1     -5.8\n",
      "       2     -7.5\n",
      "       3     -2.2\n",
      "       4     -4.1\n",
      "       5     -6.0\n",
      "             ... \n",
      "12     27    -2.0\n",
      "       28    -4.2\n",
      "       29    -5.0\n",
      "       30    -6.7\n",
      "       31     0.2\n",
      "Name: Tmin, Length: 365, dtype: float64\n"
     ]
    }
   ],
   "source": [
    "#Test your code\n",
    "def test_reformed(df):\n",
    "    df = df[(df.Date.dt.year > 2007) & (df.Date.dt.year < 2018)]\n",
    "    month_day(df)\n",
    "\n",
    "test_reformed(df)"
   ]
  },
  {
   "cell_type": "markdown",
   "metadata": {},
   "source": [
    "Again, my outcome is different than the expected outcome due to a different dataset being used. However, some of the outcomes are the same this is probably due to the fact that the ultimate minimum of all of the years is between 2000 and 2018. This somewhat confirms that my method was correct"
   ]
  },
  {
   "cell_type": "markdown",
   "metadata": {},
   "source": [
    "<details>    \n",
    "<summary>\n",
    "    <font size=\"3\" color=\"darkgreen\"><b>Hints</b></font>\n",
    "</summary>\n",
    "<ul><li>use the dt.month and dt.day to groupby</li>\n",
    "</ul>\n",
    "</details>"
   ]
  },
  {
   "cell_type": "markdown",
   "metadata": {},
   "source": [
    "### Expected outcome\n",
    "Note, the layout or names my differ, but the length should be 365 and the minimum values should be the same"
   ]
  },
  {
   "cell_type": "raw",
   "metadata": {},
   "source": [
    "month  day\n",
    "1      1      -5.8\n",
    "       2      -7.5\n",
    "       3     -12.6\n",
    "       4      -4.1\n",
    "       5      -6.0\n",
    "              ... \n",
    "12     27     -4.8\n",
    "       28     -4.2\n",
    "       29     -6.7\n",
    "       30    -10.2\n",
    "       31    -10.6\n",
    "Name: Tmin, Length: 365, dtype: float64"
   ]
  },
  {
   "cell_type": "markdown",
   "metadata": {},
   "source": [
    "---"
   ]
  },
  {
   "cell_type": "markdown",
   "metadata": {},
   "source": [
    "<a name='3'></a>\n",
    "## Part 4: Smooth the data\n",
    "\n",
    "Make a function that takes an array or a dataframe column and returns an array of smoothed data. Explain in words why you choose a certain smoothing algoritm. Ask the signal analysis teacher if you want some advice.\n"
   ]
  },
  {
   "cell_type": "markdown",
   "metadata": {},
   "source": [
    "To smooth the data I used a rolling mean. I had diffucilty in finding/choosing a smoothing method. I found a method that smoothes the data using the rolling function, after which a sum was applied (https://medium.com/@teamastertoast/smoothing-time-series-in-python-a-walkthrough-with-covid-19-data-b4ccfb980a61). I tried this method at first, but it was given me higher results (of course) because it was summing all the data point in the rolling window. From a previous exercise I knew you could also apply the mean function after a rolling function. I tried it and it gave met quite smooth and promising results. I tried different values for the rolling window and found 7 to be the best."
   ]
  },
  {
   "cell_type": "code",
   "execution_count": 198,
   "metadata": {},
   "outputs": [],
   "source": [
    "#your code here\n",
    "def smooth_data(df_column):\n",
    "    return df_column.rolling(7).mean()\n",
    "\n",
    "df['smooth'] = smooth_data(df.Tmean)"
   ]
  },
  {
   "cell_type": "markdown",
   "metadata": {},
   "source": [
    "---"
   ]
  },
  {
   "cell_type": "markdown",
   "metadata": {},
   "source": [
    "<a name='4'></a>\n",
    "## Part 5: Visualize the data"
   ]
  },
  {
   "cell_type": "markdown",
   "metadata": {},
   "source": [
    "Plot the mean temperature of the year 2018. Create a shaded band with the ultimate minimum values and the ultimate maximum values from the multi-year dataset. Add labels, titles and legends. Use proper ranges. Be creative to make the plot attractive. \n",
    "\n"
   ]
  },
  {
   "cell_type": "code",
   "execution_count": 178,
   "metadata": {},
   "outputs": [],
   "source": [
    "# get the data we want to plot\n",
    "df_ultimates = df.groupby([df.Date.dt.month.rename('month'), df.Date.dt.day.rename('day')]).agg({'Tmin': 'min', 'Tmax': 'max', 'Tmean': 'mean'})\n",
    "df_2018 = df[df.Date.dt.year == 2018]"
   ]
  },
  {
   "cell_type": "code",
   "execution_count": 179,
   "metadata": {},
   "outputs": [],
   "source": [
    "# we need to have the same index in both dfs so that we can use that as plotting, we set the day count (1 to 365) as index and use it as the x value in plotting\n",
    "df_2018.index = range(1, len(df_2018)+1)\n",
    "df_ultimates = df_ultimates.reset_index()\n",
    "df_ultimates.index = range(1, len(df_ultimates)+1)"
   ]
  },
  {
   "cell_type": "code",
   "execution_count": 202,
   "metadata": {},
   "outputs": [
    {
     "data": {
      "text/html": [
       "<div class=\"bk-root\">\n",
       "        <a href=\"https://bokeh.org\" target=\"_blank\" class=\"bk-logo bk-logo-small bk-logo-notebook\"></a>\n",
       "        <span id=\"5819\">Loading BokehJS ...</span>\n",
       "    </div>\n"
      ]
     },
     "metadata": {},
     "output_type": "display_data"
    },
    {
     "data": {
      "application/javascript": "(function(root) {\n  function now() {\n    return new Date();\n  }\n\n  const force = true;\n\n  if (typeof root._bokeh_onload_callbacks === \"undefined\" || force === true) {\n    root._bokeh_onload_callbacks = [];\n    root._bokeh_is_loading = undefined;\n  }\n\nconst JS_MIME_TYPE = 'application/javascript';\n  const HTML_MIME_TYPE = 'text/html';\n  const EXEC_MIME_TYPE = 'application/vnd.bokehjs_exec.v0+json';\n  const CLASS_NAME = 'output_bokeh rendered_html';\n\n  /**\n   * Render data to the DOM node\n   */\n  function render(props, node) {\n    const script = document.createElement(\"script\");\n    node.appendChild(script);\n  }\n\n  /**\n   * Handle when an output is cleared or removed\n   */\n  function handleClearOutput(event, handle) {\n    const cell = handle.cell;\n\n    const id = cell.output_area._bokeh_element_id;\n    const server_id = cell.output_area._bokeh_server_id;\n    // Clean up Bokeh references\n    if (id != null && id in Bokeh.index) {\n      Bokeh.index[id].model.document.clear();\n      delete Bokeh.index[id];\n    }\n\n    if (server_id !== undefined) {\n      // Clean up Bokeh references\n      const cmd_clean = \"from bokeh.io.state import curstate; print(curstate().uuid_to_server['\" + server_id + \"'].get_sessions()[0].document.roots[0]._id)\";\n      cell.notebook.kernel.execute(cmd_clean, {\n        iopub: {\n          output: function(msg) {\n            const id = msg.content.text.trim();\n            if (id in Bokeh.index) {\n              Bokeh.index[id].model.document.clear();\n              delete Bokeh.index[id];\n            }\n          }\n        }\n      });\n      // Destroy server and session\n      const cmd_destroy = \"import bokeh.io.notebook as ion; ion.destroy_server('\" + server_id + \"')\";\n      cell.notebook.kernel.execute(cmd_destroy);\n    }\n  }\n\n  /**\n   * Handle when a new output is added\n   */\n  function handleAddOutput(event, handle) {\n    const output_area = handle.output_area;\n    const output = handle.output;\n\n    // limit handleAddOutput to display_data with EXEC_MIME_TYPE content only\n    if ((output.output_type != \"display_data\") || (!Object.prototype.hasOwnProperty.call(output.data, EXEC_MIME_TYPE))) {\n      return\n    }\n\n    const toinsert = output_area.element.find(\".\" + CLASS_NAME.split(' ')[0]);\n\n    if (output.metadata[EXEC_MIME_TYPE][\"id\"] !== undefined) {\n      toinsert[toinsert.length - 1].firstChild.textContent = output.data[JS_MIME_TYPE];\n      // store reference to embed id on output_area\n      output_area._bokeh_element_id = output.metadata[EXEC_MIME_TYPE][\"id\"];\n    }\n    if (output.metadata[EXEC_MIME_TYPE][\"server_id\"] !== undefined) {\n      const bk_div = document.createElement(\"div\");\n      bk_div.innerHTML = output.data[HTML_MIME_TYPE];\n      const script_attrs = bk_div.children[0].attributes;\n      for (let i = 0; i < script_attrs.length; i++) {\n        toinsert[toinsert.length - 1].firstChild.setAttribute(script_attrs[i].name, script_attrs[i].value);\n        toinsert[toinsert.length - 1].firstChild.textContent = bk_div.children[0].textContent\n      }\n      // store reference to server id on output_area\n      output_area._bokeh_server_id = output.metadata[EXEC_MIME_TYPE][\"server_id\"];\n    }\n  }\n\n  function register_renderer(events, OutputArea) {\n\n    function append_mime(data, metadata, element) {\n      // create a DOM node to render to\n      const toinsert = this.create_output_subarea(\n        metadata,\n        CLASS_NAME,\n        EXEC_MIME_TYPE\n      );\n      this.keyboard_manager.register_events(toinsert);\n      // Render to node\n      const props = {data: data, metadata: metadata[EXEC_MIME_TYPE]};\n      render(props, toinsert[toinsert.length - 1]);\n      element.append(toinsert);\n      return toinsert\n    }\n\n    /* Handle when an output is cleared or removed */\n    events.on('clear_output.CodeCell', handleClearOutput);\n    events.on('delete.Cell', handleClearOutput);\n\n    /* Handle when a new output is added */\n    events.on('output_added.OutputArea', handleAddOutput);\n\n    /**\n     * Register the mime type and append_mime function with output_area\n     */\n    OutputArea.prototype.register_mime_type(EXEC_MIME_TYPE, append_mime, {\n      /* Is output safe? */\n      safe: true,\n      /* Index of renderer in `output_area.display_order` */\n      index: 0\n    });\n  }\n\n  // register the mime type if in Jupyter Notebook environment and previously unregistered\n  if (root.Jupyter !== undefined) {\n    const events = require('base/js/events');\n    const OutputArea = require('notebook/js/outputarea').OutputArea;\n\n    if (OutputArea.prototype.mime_types().indexOf(EXEC_MIME_TYPE) == -1) {\n      register_renderer(events, OutputArea);\n    }\n  }\n  if (typeof (root._bokeh_timeout) === \"undefined\" || force === true) {\n    root._bokeh_timeout = Date.now() + 5000;\n    root._bokeh_failed_load = false;\n  }\n\n  const NB_LOAD_WARNING = {'data': {'text/html':\n     \"<div style='background-color: #fdd'>\\n\"+\n     \"<p>\\n\"+\n     \"BokehJS does not appear to have successfully loaded. If loading BokehJS from CDN, this \\n\"+\n     \"may be due to a slow or bad network connection. Possible fixes:\\n\"+\n     \"</p>\\n\"+\n     \"<ul>\\n\"+\n     \"<li>re-rerun `output_notebook()` to attempt to load from CDN again, or</li>\\n\"+\n     \"<li>use INLINE resources instead, as so:</li>\\n\"+\n     \"</ul>\\n\"+\n     \"<code>\\n\"+\n     \"from bokeh.resources import INLINE\\n\"+\n     \"output_notebook(resources=INLINE)\\n\"+\n     \"</code>\\n\"+\n     \"</div>\"}};\n\n  function display_loaded() {\n    const el = document.getElementById(\"5819\");\n    if (el != null) {\n      el.textContent = \"BokehJS is loading...\";\n    }\n    if (root.Bokeh !== undefined) {\n      if (el != null) {\n        el.textContent = \"BokehJS \" + root.Bokeh.version + \" successfully loaded.\";\n      }\n    } else if (Date.now() < root._bokeh_timeout) {\n      setTimeout(display_loaded, 100)\n    }\n  }\n\n  function run_callbacks() {\n    try {\n      root._bokeh_onload_callbacks.forEach(function(callback) {\n        if (callback != null)\n          callback();\n      });\n    } finally {\n      delete root._bokeh_onload_callbacks\n    }\n    console.debug(\"Bokeh: all callbacks have finished\");\n  }\n\n  function load_libs(css_urls, js_urls, callback) {\n    if (css_urls == null) css_urls = [];\n    if (js_urls == null) js_urls = [];\n\n    root._bokeh_onload_callbacks.push(callback);\n    if (root._bokeh_is_loading > 0) {\n      console.debug(\"Bokeh: BokehJS is being loaded, scheduling callback at\", now());\n      return null;\n    }\n    if (js_urls == null || js_urls.length === 0) {\n      run_callbacks();\n      return null;\n    }\n    console.debug(\"Bokeh: BokehJS not loaded, scheduling load and callback at\", now());\n    root._bokeh_is_loading = css_urls.length + js_urls.length;\n\n    function on_load() {\n      root._bokeh_is_loading--;\n      if (root._bokeh_is_loading === 0) {\n        console.debug(\"Bokeh: all BokehJS libraries/stylesheets loaded\");\n        run_callbacks()\n      }\n    }\n\n    function on_error(url) {\n      console.error(\"failed to load \" + url);\n    }\n\n    for (let i = 0; i < css_urls.length; i++) {\n      const url = css_urls[i];\n      const element = document.createElement(\"link\");\n      element.onload = on_load;\n      element.onerror = on_error.bind(null, url);\n      element.rel = \"stylesheet\";\n      element.type = \"text/css\";\n      element.href = url;\n      console.debug(\"Bokeh: injecting link tag for BokehJS stylesheet: \", url);\n      document.body.appendChild(element);\n    }\n\n    for (let i = 0; i < js_urls.length; i++) {\n      const url = js_urls[i];\n      const element = document.createElement('script');\n      element.onload = on_load;\n      element.onerror = on_error.bind(null, url);\n      element.async = false;\n      element.src = url;\n      console.debug(\"Bokeh: injecting script tag for BokehJS library: \", url);\n      document.head.appendChild(element);\n    }\n  };\n\n  function inject_raw_css(css) {\n    const element = document.createElement(\"style\");\n    element.appendChild(document.createTextNode(css));\n    document.body.appendChild(element);\n  }\n\n  const js_urls = [\"https://cdn.bokeh.org/bokeh/release/bokeh-2.4.3.min.js\", \"https://cdn.bokeh.org/bokeh/release/bokeh-gl-2.4.3.min.js\", \"https://cdn.bokeh.org/bokeh/release/bokeh-widgets-2.4.3.min.js\", \"https://cdn.bokeh.org/bokeh/release/bokeh-tables-2.4.3.min.js\", \"https://cdn.bokeh.org/bokeh/release/bokeh-mathjax-2.4.3.min.js\", \"https://unpkg.com/@holoviz/panel@0.13.1/dist/panel.min.js\"];\n  const css_urls = [];\n\n  const inline_js = [    function(Bokeh) {\n      Bokeh.set_log_level(\"info\");\n    },\nfunction(Bokeh) {\n    }\n  ];\n\n  function run_inline_js() {\n    if (root.Bokeh !== undefined || force === true) {\n          for (let i = 0; i < inline_js.length; i++) {\n      inline_js[i].call(root, root.Bokeh);\n    }\nif (force === true) {\n        display_loaded();\n      }} else if (Date.now() < root._bokeh_timeout) {\n      setTimeout(run_inline_js, 100);\n    } else if (!root._bokeh_failed_load) {\n      console.log(\"Bokeh: BokehJS failed to load within specified timeout.\");\n      root._bokeh_failed_load = true;\n    } else if (force !== true) {\n      const cell = $(document.getElementById(\"5819\")).parents('.cell').data().cell;\n      cell.output_area.append_execute_result(NB_LOAD_WARNING)\n    }\n  }\n\n  if (root._bokeh_is_loading === 0) {\n    console.debug(\"Bokeh: BokehJS loaded, going straight to plotting\");\n    run_inline_js();\n  } else {\n    load_libs(css_urls, js_urls, function() {\n      console.debug(\"Bokeh: BokehJS plotting callback run at\", now());\n      run_inline_js();\n    });\n  }\n}(window));",
      "application/vnd.bokehjs_load.v0+json": ""
     },
     "metadata": {},
     "output_type": "display_data"
    },
    {
     "data": {
      "text/html": [
       "\n",
       "  <div class=\"bk-root\" id=\"c2c02a1a-9941-44c5-a73b-6878fa717687\" data-root-id=\"5820\"></div>\n"
      ]
     },
     "metadata": {},
     "output_type": "display_data"
    },
    {
     "data": {
      "application/javascript": "(function(root) {\n  function embed_document(root) {\n  const docs_json = {\"3ee45164-617a-4644-a5a1-a173e9374139\":{\"defs\":[{\"extends\":null,\"module\":null,\"name\":\"ReactiveHTML1\",\"overrides\":[],\"properties\":[]},{\"extends\":null,\"module\":null,\"name\":\"FlexBox1\",\"overrides\":[],\"properties\":[{\"default\":\"flex-start\",\"kind\":null,\"name\":\"align_content\"},{\"default\":\"flex-start\",\"kind\":null,\"name\":\"align_items\"},{\"default\":\"row\",\"kind\":null,\"name\":\"flex_direction\"},{\"default\":\"wrap\",\"kind\":null,\"name\":\"flex_wrap\"},{\"default\":\"flex-start\",\"kind\":null,\"name\":\"justify_content\"}]},{\"extends\":null,\"module\":null,\"name\":\"GridStack1\",\"overrides\":[],\"properties\":[{\"default\":\"warn\",\"kind\":null,\"name\":\"mode\"},{\"default\":null,\"kind\":null,\"name\":\"ncols\"},{\"default\":null,\"kind\":null,\"name\":\"nrows\"},{\"default\":true,\"kind\":null,\"name\":\"allow_resize\"},{\"default\":true,\"kind\":null,\"name\":\"allow_drag\"},{\"default\":[],\"kind\":null,\"name\":\"state\"}]},{\"extends\":null,\"module\":null,\"name\":\"click1\",\"overrides\":[],\"properties\":[{\"default\":\"\",\"kind\":null,\"name\":\"terminal_output\"},{\"default\":\"\",\"kind\":null,\"name\":\"debug_name\"},{\"default\":0,\"kind\":null,\"name\":\"clears\"}]},{\"extends\":null,\"module\":null,\"name\":\"NotificationAreaBase1\",\"overrides\":[],\"properties\":[{\"default\":\"bottom-right\",\"kind\":null,\"name\":\"position\"},{\"default\":0,\"kind\":null,\"name\":\"_clear\"}]},{\"extends\":null,\"module\":null,\"name\":\"NotificationArea1\",\"overrides\":[],\"properties\":[{\"default\":[],\"kind\":null,\"name\":\"notifications\"},{\"default\":\"bottom-right\",\"kind\":null,\"name\":\"position\"},{\"default\":0,\"kind\":null,\"name\":\"_clear\"},{\"default\":[{\"background\":\"#ffc107\",\"icon\":{\"className\":\"fas fa-exclamation-triangle\",\"color\":\"white\",\"tagName\":\"i\"},\"type\":\"warning\"},{\"background\":\"#007bff\",\"icon\":{\"className\":\"fas fa-info-circle\",\"color\":\"white\",\"tagName\":\"i\"},\"type\":\"info\"}],\"kind\":null,\"name\":\"types\"}]},{\"extends\":null,\"module\":null,\"name\":\"Notification\",\"overrides\":[],\"properties\":[{\"default\":null,\"kind\":null,\"name\":\"background\"},{\"default\":3000,\"kind\":null,\"name\":\"duration\"},{\"default\":null,\"kind\":null,\"name\":\"icon\"},{\"default\":\"\",\"kind\":null,\"name\":\"message\"},{\"default\":null,\"kind\":null,\"name\":\"notification_type\"},{\"default\":false,\"kind\":null,\"name\":\"_destroyed\"}]},{\"extends\":null,\"module\":null,\"name\":\"TemplateActions1\",\"overrides\":[],\"properties\":[{\"default\":0,\"kind\":null,\"name\":\"open_modal\"},{\"default\":0,\"kind\":null,\"name\":\"close_modal\"}]},{\"extends\":null,\"module\":null,\"name\":\"MaterialTemplateActions1\",\"overrides\":[],\"properties\":[{\"default\":0,\"kind\":null,\"name\":\"open_modal\"},{\"default\":0,\"kind\":null,\"name\":\"close_modal\"}]}],\"roots\":{\"references\":[{\"attributes\":{\"below\":[{\"id\":\"5831\"}],\"center\":[{\"id\":\"5834\"},{\"id\":\"5838\"},{\"id\":\"5881\"},{\"id\":\"5884\"}],\"height\":500,\"left\":[{\"id\":\"5835\"}],\"renderers\":[{\"id\":\"5857\"}],\"title\":{\"id\":\"5821\"},\"toolbar\":{\"id\":\"5846\"},\"width\":800,\"x_range\":{\"id\":\"5886\"},\"x_scale\":{\"id\":\"5827\"},\"y_range\":{\"id\":\"5887\"},\"y_scale\":{\"id\":\"5829\"}},\"id\":\"5820\",\"subtype\":\"Figure\",\"type\":\"Plot\"},{\"attributes\":{},\"id\":\"5843\",\"type\":\"ResetTool\"},{\"attributes\":{},\"id\":\"5842\",\"type\":\"SaveTool\"},{\"attributes\":{\"overlay\":{\"id\":\"5845\"}},\"id\":\"5841\",\"type\":\"BoxZoomTool\"},{\"attributes\":{},\"id\":\"5839\",\"type\":\"PanTool\"},{\"attributes\":{},\"id\":\"6070\",\"type\":\"UnionRenderers\"},{\"attributes\":{},\"id\":\"5844\",\"type\":\"HelpTool\"},{\"attributes\":{},\"id\":\"5836\",\"type\":\"BasicTicker\"},{\"attributes\":{\"coordinates\":null,\"group\":null,\"text\":\"Weatherdata of 2018 using station 270\\n\"},\"id\":\"5821\",\"type\":\"Title\"},{\"attributes\":{},\"id\":\"5862\",\"type\":\"AllLabels\"},{\"attributes\":{\"line_alpha\":0.2,\"line_color\":\"#1f77b4\",\"x\":{\"field\":\"x\"},\"y\":{\"field\":\"y\"}},\"id\":\"5856\",\"type\":\"Line\"},{\"attributes\":{\"base\":{\"field\":\"x\"},\"coordinates\":null,\"fill_alpha\":0.3,\"fill_color\":\"gray\",\"group\":null,\"line_color\":\"black\",\"lower\":{\"field\":\"tmin\"},\"source\":{\"id\":\"5883\"},\"upper\":{\"field\":\"tmax\"}},\"id\":\"5884\",\"type\":\"Band\"},{\"attributes\":{\"line_color\":\"#1f77b4\",\"x\":{\"field\":\"x\"},\"y\":{\"field\":\"y\"}},\"id\":\"5854\",\"type\":\"Line\"},{\"attributes\":{},\"id\":\"5861\",\"type\":\"BasicTickFormatter\"},{\"attributes\":{},\"id\":\"5864\",\"type\":\"DatetimeTickFormatter\"},{\"attributes\":{\"axis\":{\"id\":\"5831\"},\"coordinates\":null,\"group\":null,\"ticker\":null},\"id\":\"5834\",\"type\":\"Grid\"},{\"attributes\":{},\"id\":\"5829\",\"type\":\"LinearScale\"},{\"attributes\":{\"axis_label\":\"Date\",\"coordinates\":null,\"formatter\":{\"id\":\"5864\"},\"group\":null,\"major_label_orientation\":\"vertical\",\"major_label_overrides\":{\"1\":\"2018-01-01\",\"101\":\"2018-04-11\",\"11\":\"2018-01-11\",\"111\":\"2018-04-21\",\"121\":\"2018-05-01\",\"131\":\"2018-05-11\",\"141\":\"2018-05-21\",\"151\":\"2018-05-31\",\"161\":\"2018-06-10\",\"171\":\"2018-06-20\",\"181\":\"2018-06-30\",\"191\":\"2018-07-10\",\"201\":\"2018-07-20\",\"21\":\"2018-01-21\",\"211\":\"2018-07-30\",\"221\":\"2018-08-09\",\"231\":\"2018-08-19\",\"241\":\"2018-08-29\",\"251\":\"2018-09-08\",\"261\":\"2018-09-18\",\"271\":\"2018-09-28\",\"281\":\"2018-10-08\",\"291\":\"2018-10-18\",\"301\":\"2018-10-28\",\"31\":\"2018-01-31\",\"311\":\"2018-11-07\",\"321\":\"2018-11-17\",\"331\":\"2018-11-27\",\"341\":\"2018-12-07\",\"351\":\"2018-12-17\",\"361\":\"2018-12-27\",\"41\":\"2018-02-10\",\"51\":\"2018-02-20\",\"61\":\"2018-03-02\",\"71\":\"2018-03-12\",\"81\":\"2018-03-22\",\"91\":\"2018-04-01\"},\"major_label_policy\":{\"id\":\"5865\"},\"ticker\":{\"id\":\"5888\"}},\"id\":\"5831\",\"type\":\"DatetimeAxis\"},{\"attributes\":{},\"id\":\"5866\",\"type\":\"UnionRenderers\"},{\"attributes\":{\"axis\":{\"id\":\"5835\"},\"coordinates\":null,\"dimension\":1,\"group\":null,\"ticker\":null},\"id\":\"5838\",\"type\":\"Grid\"},{\"attributes\":{},\"id\":\"5827\",\"type\":\"LinearScale\"},{\"attributes\":{\"axis_label\":\"Temperatue (oC)\",\"coordinates\":null,\"formatter\":{\"id\":\"5861\"},\"group\":null,\"major_label_policy\":{\"id\":\"5862\"},\"ticker\":{\"id\":\"5836\"}},\"id\":\"5835\",\"type\":\"LinearAxis\"},{\"attributes\":{},\"id\":\"5867\",\"type\":\"Selection\"},{\"attributes\":{\"data\":{\"tmax\":{\"__ndarray__\":\"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\",\"dtype\":\"float64\",\"order\":\"little\",\"shape\":[365]},\"tmin\":{\"__ndarray__\":\"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\",\"dtype\":\"float64\",\"order\":\"little\",\"shape\":[365]},\"x\":[1,2,3,4,5,6,7,8,9,10,11,12,13,14,15,16,17,18,19,20,21,22,23,24,25,26,27,28,29,30,31,32,33,34,35,36,37,38,39,40,41,42,43,44,45,46,47,48,49,50,51,52,53,54,55,56,57,58,59,60,61,62,63,64,65,66,67,68,69,70,71,72,73,74,75,76,77,78,79,80,81,82,83,84,85,86,87,88,89,90,91,92,93,94,95,96,97,98,99,100,101,102,103,104,105,106,107,108,109,110,111,112,113,114,115,116,117,118,119,120,121,122,123,124,125,126,127,128,129,130,131,132,133,134,135,136,137,138,139,140,141,142,143,144,145,146,147,148,149,150,151,152,153,154,155,156,157,158,159,160,161,162,163,164,165,166,167,168,169,170,171,172,173,174,175,176,177,178,179,180,181,182,183,184,185,186,187,188,189,190,191,192,193,194,195,196,197,198,199,200,201,202,203,204,205,206,207,208,209,210,211,212,213,214,215,216,217,218,219,220,221,222,223,224,225,226,227,228,229,230,231,232,233,234,235,236,237,238,239,240,241,242,243,244,245,246,247,248,249,250,251,252,253,254,255,256,257,258,259,260,261,262,263,264,265,266,267,268,269,270,271,272,273,274,275,276,277,278,279,280,281,282,283,284,285,286,287,288,289,290,291,292,293,294,295,296,297,298,299,300,301,302,303,304,305,306,307,308,309,310,311,312,313,314,315,316,317,318,319,320,321,322,323,324,325,326,327,328,329,330,331,332,333,334,335,336,337,338,339,340,341,342,343,344,345,346,347,348,349,350,351,352,353,354,355,356,357,358,359,360,361,362,363,364,365]},\"selected\":{\"id\":\"6071\"},\"selection_policy\":{\"id\":\"6070\"}},\"id\":\"5883\",\"type\":\"ColumnDataSource\"},{\"attributes\":{\"line_alpha\":0.1,\"line_color\":\"#1f77b4\",\"x\":{\"field\":\"x\"},\"y\":{\"field\":\"y\"}},\"id\":\"5855\",\"type\":\"Line\"},{\"attributes\":{},\"id\":\"5865\",\"type\":\"AllLabels\"},{\"attributes\":{},\"id\":\"5840\",\"type\":\"WheelZoomTool\"},{\"attributes\":{},\"id\":\"6071\",\"type\":\"Selection\"},{\"attributes\":{\"tools\":[{\"id\":\"5839\"},{\"id\":\"5840\"},{\"id\":\"5841\"},{\"id\":\"5842\"},{\"id\":\"5843\"},{\"id\":\"5844\"}]},\"id\":\"5846\",\"type\":\"Toolbar\"},{\"attributes\":{\"range_padding\":0.0},\"id\":\"5886\",\"type\":\"DataRange1d\"},{\"attributes\":{\"coordinates\":null,\"data_source\":{\"id\":\"5853\"},\"glyph\":{\"id\":\"5854\"},\"group\":null,\"hover_glyph\":null,\"muted_glyph\":{\"id\":\"5856\"},\"nonselection_glyph\":{\"id\":\"5855\"},\"view\":{\"id\":\"5858\"}},\"id\":\"5857\",\"type\":\"GlyphRenderer\"},{\"attributes\":{\"source\":{\"id\":\"5853\"}},\"id\":\"5858\",\"type\":\"CDSView\"},{\"attributes\":{\"data\":{\"x\":[1,2,3,4,5,6,7,8,9,10,11,12,13,14,15,16,17,18,19,20,21,22,23,24,25,26,27,28,29,30,31,32,33,34,35,36,37,38,39,40,41,42,43,44,45,46,47,48,49,50,51,52,53,54,55,56,57,58,59,60,61,62,63,64,65,66,67,68,69,70,71,72,73,74,75,76,77,78,79,80,81,82,83,84,85,86,87,88,89,90,91,92,93,94,95,96,97,98,99,100,101,102,103,104,105,106,107,108,109,110,111,112,113,114,115,116,117,118,119,120,121,122,123,124,125,126,127,128,129,130,131,132,133,134,135,136,137,138,139,140,141,142,143,144,145,146,147,148,149,150,151,152,153,154,155,156,157,158,159,160,161,162,163,164,165,166,167,168,169,170,171,172,173,174,175,176,177,178,179,180,181,182,183,184,185,186,187,188,189,190,191,192,193,194,195,196,197,198,199,200,201,202,203,204,205,206,207,208,209,210,211,212,213,214,215,216,217,218,219,220,221,222,223,224,225,226,227,228,229,230,231,232,233,234,235,236,237,238,239,240,241,242,243,244,245,246,247,248,249,250,251,252,253,254,255,256,257,258,259,260,261,262,263,264,265,266,267,268,269,270,271,272,273,274,275,276,277,278,279,280,281,282,283,284,285,286,287,288,289,290,291,292,293,294,295,296,297,298,299,300,301,302,303,304,305,306,307,308,309,310,311,312,313,314,315,316,317,318,319,320,321,322,323,324,325,326,327,328,329,330,331,332,333,334,335,336,337,338,339,340,341,342,343,344,345,346,347,348,349,350,351,352,353,354,355,356,357,358,359,360,361,362,363,364,365],\"y\":{\"__ndarray__\":\"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\",\"dtype\":\"float64\",\"order\":\"little\",\"shape\":[365]}},\"selected\":{\"id\":\"5867\"},\"selection_policy\":{\"id\":\"5866\"}},\"id\":\"5853\",\"type\":\"ColumnDataSource\"},{\"attributes\":{\"label\":{\"value\":\"smoothed mean temperature\"},\"renderers\":[{\"id\":\"5857\"}]},\"id\":\"5882\",\"type\":\"LegendItem\"},{\"attributes\":{\"end\":34.8,\"start\":-10.7},\"id\":\"5887\",\"type\":\"Range1d\"},{\"attributes\":{\"coordinates\":null,\"group\":null,\"items\":[{\"id\":\"5882\"}]},\"id\":\"5881\",\"type\":\"Legend\"},{\"attributes\":{\"ticks\":[1,11,21,31,41,51,61,71,81,91,101,111,121,131,141,151,161,171,181,191,201,211,221,231,241,251,261,271,281,291,301,311,321,331,341,351,361]},\"id\":\"5888\",\"type\":\"FixedTicker\"},{\"attributes\":{\"bottom_units\":\"screen\",\"coordinates\":null,\"fill_alpha\":0.5,\"fill_color\":\"lightgrey\",\"group\":null,\"left_units\":\"screen\",\"level\":\"overlay\",\"line_alpha\":1.0,\"line_color\":\"black\",\"line_dash\":[4,4],\"line_width\":2,\"right_units\":\"screen\",\"syncable\":false,\"top_units\":\"screen\"},\"id\":\"5845\",\"type\":\"BoxAnnotation\"}],\"root_ids\":[\"5820\"]},\"title\":\"Bokeh Application\",\"version\":\"2.4.3\"}};\n  const render_items = [{\"docid\":\"3ee45164-617a-4644-a5a1-a173e9374139\",\"root_ids\":[\"5820\"],\"roots\":{\"5820\":\"c2c02a1a-9941-44c5-a73b-6878fa717687\"}}];\n  root.Bokeh.embed.embed_items_notebook(docs_json, render_items);\n  }\n  if (root.Bokeh !== undefined) {\n    embed_document(root);\n  } else {\n    let attempts = 0;\n    const timer = setInterval(function(root) {\n      if (root.Bokeh !== undefined) {\n        clearInterval(timer);\n        embed_document(root);\n      } else {\n        attempts++;\n        if (attempts > 100) {\n          clearInterval(timer);\n          console.log(\"Bokeh: ERROR: Unable to run BokehJS code because BokehJS library is missing\");\n        }\n      }\n    }, 10, root)\n  }\n})(window);",
      "application/vnd.bokehjs_exec.v0+json": ""
     },
     "metadata": {
      "application/vnd.bokehjs_exec.v0+json": {
       "id": "5820"
      }
     },
     "output_type": "display_data"
    }
   ],
   "source": [
    "#CODE YOUR SOLUTION HERE\n",
    "from bokeh.io import show, output_notebook\n",
    "from bokeh.models import ColumnDataSource, Select, Band, DataRange1d, Range1d, DatetimeTickFormatter\n",
    "from bokeh.plotting import figure\n",
    "\n",
    "output_notebook()\n",
    "\n",
    "# create figure\n",
    "p = figure(width=800, height=500,\n",
    "           title='Weatherdata of 2018 using station 270\\n',\n",
    "            x_axis_label='Date',\n",
    "            x_axis_type='datetime',\n",
    "            y_axis_label='Temperatue (oC)')\n",
    "\n",
    "# create line of the smoothed 2018 Tmean data\n",
    "p.line(x=df_2018.index,\n",
    "       y=df_2018.smooth,\n",
    "       legend_label='smoothed mean temperature')\n",
    "\n",
    "# create the bands with the ultimate min and max of each day\n",
    "band_source = ColumnDataSource({'tmin': df_ultimates.Tmin, \n",
    "                                'tmax': df_ultimates.Tmax, \n",
    "                                'x'   : df_ultimates.index})\n",
    "band = Band(base='x', lower='tmin', upper='tmax', source=band_source,\n",
    "            fill_alpha=0.3, fill_color=\"gray\", line_color=\"black\")\n",
    "p.add_layout(band)\n",
    "\n",
    "# set ranges for x and y so that everything is visible (zoom of the plot)\n",
    "p.x_range = DataRange1d(range_padding=0.0)\n",
    "p.y_range = Range1d(df_ultimates.Tmin.min(), df_ultimates.Tmax.max())\n",
    "\n",
    "############################################################################################################\n",
    "# I had difficulty changing the x-axis to the date using a formatter, that is why I did it manually.       #\n",
    "# What it does is it sets the x-axis ticks manually and then changes these ticks according to a dictionary #\n",
    "# where the keys are the manually set ticks and the values the new tick names. This led to another problem #\n",
    "# cause it was a datetime object, that is why I converted it to a str and extracted the date using split   #\n",
    "############################################################################################################\n",
    "\n",
    "# create x-axis ticks\n",
    "ticks = [i for i in range(1, 366, 10)]\n",
    "p.xaxis.ticker = ticks\n",
    "p.xaxis.major_label_overrides = {t:str(df_2018.Date[df_2018.index == t]).split()[1] for t in ticks}\n",
    "p.xaxis.major_label_orientation = \"vertical\"\n",
    "\n",
    "# show the plot\n",
    "show(p)"
   ]
  },
  {
   "cell_type": "markdown",
   "metadata": {},
   "source": [
    "<details>    \n",
    "<summary>\n",
    "    <font size=\"3\" color=\"darkgreen\"><b>Hints</b></font>\n",
    "</summary>\n",
    "<ul><li>use from bokeh.models import Band</li>\n",
    "    <li>use ColumnDataSource to parse data arrays</li>\n",
    "    <li>look for xaxis tick formatters</li>\n",
    "</ul>\n",
    "</details>"
   ]
  },
  {
   "cell_type": "markdown",
   "metadata": {},
   "source": [
    "---"
   ]
  },
  {
   "cell_type": "markdown",
   "metadata": {},
   "source": [
    "<a name='5'></a>\n",
    "## Part 6: Challenge"
   ]
  },
  {
   "cell_type": "markdown",
   "metadata": {},
   "source": [
    "Make a widget in which you can select the year range for the multiyear set. Or maybe a widget were you choose a different station. Add this to your layout to make the plot interactive. Add another widget to select or deselect the smoother. Inspiration: https://demo.bokeh.org/weather"
   ]
  },
  {
   "cell_type": "code",
   "execution_count": 203,
   "metadata": {},
   "outputs": [],
   "source": [
    "def get_dfs(df, station, year):\n",
    "    \"\"\"creates a df with the right station and years, also creates the df with ultimate values\"\"\"\n",
    "    # we need to have the same index in both dfs so that we can use that as plotting\n",
    "    # we set the day count (1 to 365) as index and use it as the x value in plotting later\n",
    "    \n",
    "    # extract data\n",
    "    df_year = df[(df.station == station) & (df.Date.dt.year == year)]\n",
    "    # set right index\n",
    "    df_year.index = range(1, len(df_2018)+1)\n",
    "    \n",
    "    # get ultimate data\n",
    "    df_ultimates = df.groupby([df.Date.dt.month.rename('month'), df.Date.dt.day.rename('day')]).agg({'Tmin': 'min', 'Tmax': 'max', 'Tmean': 'mean'})\n",
    "    # set right index\n",
    "    df_ultimates = df_ultimates.reset_index()\n",
    "    df_ultimates.index = range(1, len(df_ultimates)+1)\n",
    "    \n",
    "    return df_year, df_ultimates\n",
    "\n",
    "\n",
    "def smooth_data(df_column):\n",
    "    \"\"\"smooths the data using a rolling mean\"\"\"\n",
    "    return df_column.rolling(7).mean()\n",
    "\n",
    "\n",
    "def render_plot(station=270, year=2018, smoothing=True):\n",
    "    \"\"\"Function to render a bokeh plot\"\"\"\n",
    "    # get smoothed the data if True\n",
    "    if smoothing == 'True':\n",
    "        df_all['smooth'] = smooth_data(df_all.Tmean)   \n",
    "    \n",
    "    # Some combinations give back a value error if the combination does not exist in the df\n",
    "    try:\n",
    "        df_year, df_ultimates = get_dfs(df_all, station, year)\n",
    "    except ValueError:\n",
    "        return 'Missing data, try another combination :)'\n",
    "    \n",
    "    # later we need at least two points to plot a line\n",
    "    if df_year.Tmean.notna().sum() < 2:\n",
    "        return 'Missing data, try another combination :)'\n",
    "    \n",
    "    # create figure\n",
    "    p = figure(width=1000, height=700,\n",
    "        title=f'Weatherdata of {year}\\n',\n",
    "            x_axis_label='Date',\n",
    "            y_axis_label='Temperatue (oC)')\n",
    "    \n",
    "    # create band\n",
    "    band_source = ColumnDataSource({'tmin': df_ultimates.Tmin, \n",
    "                                    'tmax': df_ultimates.Tmax, \n",
    "                                    'x'   : df_ultimates.index})\n",
    "    band = Band(base='x', lower='tmin', upper='tmax', source=band_source,\n",
    "            fill_alpha=0.3, fill_color=\"lightblue\", line_color=\"black\")\n",
    "    \n",
    "    # create line\n",
    "    \n",
    "    if smoothing == 'True':\n",
    "        p.line(x=df_year.index, y=df_year.smooth, legend_label=f'smoothed mean temperature in {year}')\n",
    "    else:\n",
    "        p.line(x=df_year.index, y=df_year.Tmean, legend_label=f'mean temperature in {year}')\n",
    "\n",
    "    # set range/zoom of the plot\n",
    "    p.x_range = DataRange1d(range_padding=0.0)\n",
    "    p.y_range = Range1d(df_ultimates.Tmin.min(), df_ultimates.Tmax.max())\n",
    "    p.add_layout(band) \n",
    "    \n",
    "    # manually change tick names\n",
    "    ticks = [i for i in range(1, 366, 13)]\n",
    "    p.xaxis.ticker = ticks\n",
    "    p.xaxis.major_label_overrides = {tick: str(df_year.Date[df_year.index == tick]).split()[1] for tick in ticks}\n",
    "    p.xaxis.major_label_orientation = \"vertical\" \n",
    "\n",
    "    return p\n",
    "\n"
   ]
  },
  {
   "cell_type": "code",
   "execution_count": 204,
   "metadata": {},
   "outputs": [
    {
     "data": {
      "application/javascript": "(function(root) {\n  function now() {\n    return new Date();\n  }\n\n  var force = true;\n\n  if (typeof root._bokeh_onload_callbacks === \"undefined\" || force === true) {\n    root._bokeh_onload_callbacks = [];\n    root._bokeh_is_loading = undefined;\n  }\n\n  if (typeof (root._bokeh_timeout) === \"undefined\" || force === true) {\n    root._bokeh_timeout = Date.now() + 5000;\n    root._bokeh_failed_load = false;\n  }\n\n  function run_callbacks() {\n    try {\n      root._bokeh_onload_callbacks.forEach(function(callback) {\n        if (callback != null)\n          callback();\n      });\n    } finally {\n      delete root._bokeh_onload_callbacks\n    }\n    console.debug(\"Bokeh: all callbacks have finished\");\n  }\n\n  function load_libs(css_urls, js_urls, js_modules, callback) {\n    if (css_urls == null) css_urls = [];\n    if (js_urls == null) js_urls = [];\n    if (js_modules == null) js_modules = [];\n\n    root._bokeh_onload_callbacks.push(callback);\n    if (root._bokeh_is_loading > 0) {\n      console.debug(\"Bokeh: BokehJS is being loaded, scheduling callback at\", now());\n      return null;\n    }\n    if (js_urls.length === 0 && js_modules.length === 0) {\n      run_callbacks();\n      return null;\n    }\n    console.debug(\"Bokeh: BokehJS not loaded, scheduling load and callback at\", now());\n\n    function on_load() {\n      root._bokeh_is_loading--;\n      if (root._bokeh_is_loading === 0) {\n        console.debug(\"Bokeh: all BokehJS libraries/stylesheets loaded\");\n        run_callbacks()\n      }\n    }\n\n    function on_error() {\n      console.error(\"failed to load \" + url);\n    }\n\n    for (var i = 0; i < css_urls.length; i++) {\n      var url = css_urls[i];\n      const element = document.createElement(\"link\");\n      element.onload = on_load;\n      element.onerror = on_error;\n      element.rel = \"stylesheet\";\n      element.type = \"text/css\";\n      element.href = url;\n      console.debug(\"Bokeh: injecting link tag for BokehJS stylesheet: \", url);\n      document.body.appendChild(element);\n    }\n\n    var skip = [];\n    if (window.requirejs) {\n      window.requirejs.config({'packages': {}, 'paths': {'gridstack': 'https://cdn.jsdelivr.net/npm/gridstack@4.2.5/dist/gridstack-h5', 'notyf': 'https://cdn.jsdelivr.net/npm/notyf@3/notyf.min'}, 'shim': {'gridstack': {'exports': 'GridStack'}}});\n      require([\"gridstack\"], function(GridStack) {\n\twindow.GridStack = GridStack\n\ton_load()\n      })\n      require([\"notyf\"], function() {\n\ton_load()\n      })\n      root._bokeh_is_loading = css_urls.length + 2;\n    } else {\n      root._bokeh_is_loading = css_urls.length + js_urls.length + js_modules.length;\n    }    if (((window['GridStack'] !== undefined) && (!(window['GridStack'] instanceof HTMLElement))) || window.requirejs) {\n      var urls = ['https://cdn.jsdelivr.net/npm/gridstack@4.2.5/dist/gridstack-h5.js'];\n      for (var i = 0; i < urls.length; i++) {\n        skip.push(urls[i])\n      }\n    }    if (((window['Notyf'] !== undefined) && (!(window['Notyf'] instanceof HTMLElement))) || window.requirejs) {\n      var urls = ['https://cdn.jsdelivr.net/npm/notyf@3/notyf.min.js'];\n      for (var i = 0; i < urls.length; i++) {\n        skip.push(urls[i])\n      }\n    }    for (var i = 0; i < js_urls.length; i++) {\n      var url = js_urls[i];\n      if (skip.indexOf(url) >= 0) {\n\tif (!window.requirejs) {\n\t  on_load();\n\t}\n\tcontinue;\n      }\n      var element = document.createElement('script');\n      element.onload = on_load;\n      element.onerror = on_error;\n      element.async = false;\n      element.src = url;\n      console.debug(\"Bokeh: injecting script tag for BokehJS library: \", url);\n      document.head.appendChild(element);\n    }\n    for (var i = 0; i < js_modules.length; i++) {\n      var url = js_modules[i];\n      if (skip.indexOf(url) >= 0) {\n\tif (!window.requirejs) {\n\t  on_load();\n\t}\n\tcontinue;\n      }\n      var element = document.createElement('script');\n      element.onload = on_load;\n      element.onerror = on_error;\n      element.async = false;\n      element.src = url;\n      element.type = \"module\";\n      console.debug(\"Bokeh: injecting script tag for BokehJS library: \", url);\n      document.head.appendChild(element);\n    }\n    if (!js_urls.length && !js_modules.length) {\n      on_load()\n    }\n  };\n\n  function inject_raw_css(css) {\n    const element = document.createElement(\"style\");\n    element.appendChild(document.createTextNode(css));\n    document.body.appendChild(element);\n  }\n\n  var js_urls = [\"https://cdn.bokeh.org/bokeh/release/bokeh-2.4.3.min.js\", \"https://cdn.bokeh.org/bokeh/release/bokeh-gl-2.4.3.min.js\", \"https://cdn.bokeh.org/bokeh/release/bokeh-widgets-2.4.3.min.js\", \"https://cdn.bokeh.org/bokeh/release/bokeh-tables-2.4.3.min.js\", \"https://cdn.bokeh.org/bokeh/release/bokeh-mathjax-2.4.3.min.js\", \"https://cdn.jsdelivr.net/npm/notyf@3/notyf.min.js\", \"https://unpkg.com/@holoviz/panel@0.13.1/dist/panel.min.js\"];\n  var js_modules = [];\n  var css_urls = [\"https://cdn.jsdelivr.net/npm/notyf@3/notyf.min.css\", \"https://cdnjs.cloudflare.com/ajax/libs/font-awesome/5.15.1/css/all.min.css\", \"https://unpkg.com/@holoviz/panel@0.13.1/dist/css/alerts.css\", \"https://unpkg.com/@holoviz/panel@0.13.1/dist/css/card.css\", \"https://unpkg.com/@holoviz/panel@0.13.1/dist/css/dataframe.css\", \"https://unpkg.com/@holoviz/panel@0.13.1/dist/css/debugger.css\", \"https://unpkg.com/@holoviz/panel@0.13.1/dist/css/json.css\", \"https://unpkg.com/@holoviz/panel@0.13.1/dist/css/loading.css\", \"https://unpkg.com/@holoviz/panel@0.13.1/dist/css/markdown.css\", \"https://unpkg.com/@holoviz/panel@0.13.1/dist/css/widgets.css\"];\n  var inline_js = [    function(Bokeh) {\n      inject_raw_css(\"\\n    .bk.pn-loading.arcs:before {\\n      background-image: url(\\\"data:image/svg+xml;base64,PHN2ZyB4bWxucz0iaHR0cDovL3d3dy53My5vcmcvMjAwMC9zdmciIHhtbG5zOnhsaW5rPSJodHRwOi8vd3d3LnczLm9yZy8xOTk5L3hsaW5rIiBzdHlsZT0ibWFyZ2luOiBhdXRvOyBiYWNrZ3JvdW5kOiBub25lOyBkaXNwbGF5OiBibG9jazsgc2hhcGUtcmVuZGVyaW5nOiBhdXRvOyIgdmlld0JveD0iMCAwIDEwMCAxMDAiIHByZXNlcnZlQXNwZWN0UmF0aW89InhNaWRZTWlkIj4gIDxjaXJjbGUgY3g9IjUwIiBjeT0iNTAiIHI9IjMyIiBzdHJva2Utd2lkdGg9IjgiIHN0cm9rZT0iI2MzYzNjMyIgc3Ryb2tlLWRhc2hhcnJheT0iNTAuMjY1NDgyNDU3NDM2NjkgNTAuMjY1NDgyNDU3NDM2NjkiIGZpbGw9Im5vbmUiIHN0cm9rZS1saW5lY2FwPSJyb3VuZCI+ICAgIDxhbmltYXRlVHJhbnNmb3JtIGF0dHJpYnV0ZU5hbWU9InRyYW5zZm9ybSIgdHlwZT0icm90YXRlIiByZXBlYXRDb3VudD0iaW5kZWZpbml0ZSIgZHVyPSIxcyIga2V5VGltZXM9IjA7MSIgdmFsdWVzPSIwIDUwIDUwOzM2MCA1MCA1MCI+PC9hbmltYXRlVHJhbnNmb3JtPiAgPC9jaXJjbGU+PC9zdmc+\\\");\\n      background-size: auto calc(min(50%, 400px));\\n    }\\n    \");\n    },    function(Bokeh) {\n      Bokeh.set_log_level(\"info\");\n    },\nfunction(Bokeh) {} // ensure no trailing comma for IE\n  ];\n\n  function run_inline_js() {\n    if ((root.Bokeh !== undefined) || (force === true)) {\n      for (var i = 0; i < inline_js.length; i++) {\n        inline_js[i].call(root, root.Bokeh);\n      }} else if (Date.now() < root._bokeh_timeout) {\n      setTimeout(run_inline_js, 100);\n    } else if (!root._bokeh_failed_load) {\n      console.log(\"Bokeh: BokehJS failed to load within specified timeout.\");\n      root._bokeh_failed_load = true;\n    }\n  }\n\n  if (root._bokeh_is_loading === 0) {\n    console.debug(\"Bokeh: BokehJS loaded, going straight to plotting\");\n    run_inline_js();\n  } else {\n    load_libs(css_urls, js_urls, js_modules, function() {\n      console.debug(\"Bokeh: BokehJS plotting callback run at\", now());\n      run_inline_js();\n    });\n  }\n}(window));",
      "application/vnd.holoviews_load.v0+json": ""
     },
     "metadata": {},
     "output_type": "display_data"
    },
    {
     "data": {
      "application/javascript": "\nif ((window.PyViz === undefined) || (window.PyViz instanceof HTMLElement)) {\n  window.PyViz = {comms: {}, comm_status:{}, kernels:{}, receivers: {}, plot_index: []}\n}\n\n\n    function JupyterCommManager() {\n    }\n\n    JupyterCommManager.prototype.register_target = function(plot_id, comm_id, msg_handler) {\n      if (window.comm_manager || ((window.Jupyter !== undefined) && (Jupyter.notebook.kernel != null))) {\n        var comm_manager = window.comm_manager || Jupyter.notebook.kernel.comm_manager;\n        comm_manager.register_target(comm_id, function(comm) {\n          comm.on_msg(msg_handler);\n        });\n      } else if ((plot_id in window.PyViz.kernels) && (window.PyViz.kernels[plot_id])) {\n        window.PyViz.kernels[plot_id].registerCommTarget(comm_id, function(comm) {\n          comm.onMsg = msg_handler;\n        });\n      } else if (typeof google != 'undefined' && google.colab.kernel != null) {\n        google.colab.kernel.comms.registerTarget(comm_id, (comm) => {\n          var messages = comm.messages[Symbol.asyncIterator]();\n          function processIteratorResult(result) {\n            var message = result.value;\n            console.log(message)\n            var content = {data: message.data, comm_id};\n            var buffers = []\n            for (var buffer of message.buffers || []) {\n              buffers.push(new DataView(buffer))\n            }\n            var metadata = message.metadata || {};\n            var msg = {content, buffers, metadata}\n            msg_handler(msg);\n            return messages.next().then(processIteratorResult);\n          }\n          return messages.next().then(processIteratorResult);\n        })\n      }\n    }\n\n    JupyterCommManager.prototype.get_client_comm = function(plot_id, comm_id, msg_handler) {\n      if (comm_id in window.PyViz.comms) {\n        return window.PyViz.comms[comm_id];\n      } else if (window.comm_manager || ((window.Jupyter !== undefined) && (Jupyter.notebook.kernel != null))) {\n        var comm_manager = window.comm_manager || Jupyter.notebook.kernel.comm_manager;\n        var comm = comm_manager.new_comm(comm_id, {}, {}, {}, comm_id);\n        if (msg_handler) {\n          comm.on_msg(msg_handler);\n        }\n      } else if ((plot_id in window.PyViz.kernels) && (window.PyViz.kernels[plot_id])) {\n        var comm = window.PyViz.kernels[plot_id].connectToComm(comm_id);\n        comm.open();\n        if (msg_handler) {\n          comm.onMsg = msg_handler;\n        }\n      } else if (typeof google != 'undefined' && google.colab.kernel != null) {\n        var comm_promise = google.colab.kernel.comms.open(comm_id)\n        comm_promise.then((comm) => {\n          window.PyViz.comms[comm_id] = comm;\n          if (msg_handler) {\n            var messages = comm.messages[Symbol.asyncIterator]();\n            function processIteratorResult(result) {\n              var message = result.value;\n              var content = {data: message.data};\n              var metadata = message.metadata || {comm_id};\n              var msg = {content, metadata}\n              msg_handler(msg);\n              return messages.next().then(processIteratorResult);\n            }\n            return messages.next().then(processIteratorResult);\n          }\n        }) \n        var sendClosure = (data, metadata, buffers, disposeOnDone) => {\n          return comm_promise.then((comm) => {\n            comm.send(data, metadata, buffers, disposeOnDone);\n          });\n        };\n        var comm = {\n          send: sendClosure\n        };\n      }\n      window.PyViz.comms[comm_id] = comm;\n      return comm;\n    }\n    window.PyViz.comm_manager = new JupyterCommManager();\n    \n\n\nvar JS_MIME_TYPE = 'application/javascript';\nvar HTML_MIME_TYPE = 'text/html';\nvar EXEC_MIME_TYPE = 'application/vnd.holoviews_exec.v0+json';\nvar CLASS_NAME = 'output';\n\n/**\n * Render data to the DOM node\n */\nfunction render(props, node) {\n  var div = document.createElement(\"div\");\n  var script = document.createElement(\"script\");\n  node.appendChild(div);\n  node.appendChild(script);\n}\n\n/**\n * Handle when a new output is added\n */\nfunction handle_add_output(event, handle) {\n  var output_area = handle.output_area;\n  var output = handle.output;\n  if ((output.data == undefined) || (!output.data.hasOwnProperty(EXEC_MIME_TYPE))) {\n    return\n  }\n  var id = output.metadata[EXEC_MIME_TYPE][\"id\"];\n  var toinsert = output_area.element.find(\".\" + CLASS_NAME.split(' ')[0]);\n  if (id !== undefined) {\n    var nchildren = toinsert.length;\n    var html_node = toinsert[nchildren-1].children[0];\n    html_node.innerHTML = output.data[HTML_MIME_TYPE];\n    var scripts = [];\n    var nodelist = html_node.querySelectorAll(\"script\");\n    for (var i in nodelist) {\n      if (nodelist.hasOwnProperty(i)) {\n        scripts.push(nodelist[i])\n      }\n    }\n\n    scripts.forEach( function (oldScript) {\n      var newScript = document.createElement(\"script\");\n      var attrs = [];\n      var nodemap = oldScript.attributes;\n      for (var j in nodemap) {\n        if (nodemap.hasOwnProperty(j)) {\n          attrs.push(nodemap[j])\n        }\n      }\n      attrs.forEach(function(attr) { newScript.setAttribute(attr.name, attr.value) });\n      newScript.appendChild(document.createTextNode(oldScript.innerHTML));\n      oldScript.parentNode.replaceChild(newScript, oldScript);\n    });\n    if (JS_MIME_TYPE in output.data) {\n      toinsert[nchildren-1].children[1].textContent = output.data[JS_MIME_TYPE];\n    }\n    output_area._hv_plot_id = id;\n    if ((window.Bokeh !== undefined) && (id in Bokeh.index)) {\n      window.PyViz.plot_index[id] = Bokeh.index[id];\n    } else {\n      window.PyViz.plot_index[id] = null;\n    }\n  } else if (output.metadata[EXEC_MIME_TYPE][\"server_id\"] !== undefined) {\n    var bk_div = document.createElement(\"div\");\n    bk_div.innerHTML = output.data[HTML_MIME_TYPE];\n    var script_attrs = bk_div.children[0].attributes;\n    for (var i = 0; i < script_attrs.length; i++) {\n      toinsert[toinsert.length - 1].childNodes[1].setAttribute(script_attrs[i].name, script_attrs[i].value);\n    }\n    // store reference to server id on output_area\n    output_area._bokeh_server_id = output.metadata[EXEC_MIME_TYPE][\"server_id\"];\n  }\n}\n\n/**\n * Handle when an output is cleared or removed\n */\nfunction handle_clear_output(event, handle) {\n  var id = handle.cell.output_area._hv_plot_id;\n  var server_id = handle.cell.output_area._bokeh_server_id;\n  if (((id === undefined) || !(id in PyViz.plot_index)) && (server_id !== undefined)) { return; }\n  var comm = window.PyViz.comm_manager.get_client_comm(\"hv-extension-comm\", \"hv-extension-comm\", function () {});\n  if (server_id !== null) {\n    comm.send({event_type: 'server_delete', 'id': server_id});\n    return;\n  } else if (comm !== null) {\n    comm.send({event_type: 'delete', 'id': id});\n  }\n  delete PyViz.plot_index[id];\n  if ((window.Bokeh !== undefined) & (id in window.Bokeh.index)) {\n    var doc = window.Bokeh.index[id].model.document\n    doc.clear();\n    const i = window.Bokeh.documents.indexOf(doc);\n    if (i > -1) {\n      window.Bokeh.documents.splice(i, 1);\n    }\n  }\n}\n\n/**\n * Handle kernel restart event\n */\nfunction handle_kernel_cleanup(event, handle) {\n  delete PyViz.comms[\"hv-extension-comm\"];\n  window.PyViz.plot_index = {}\n}\n\n/**\n * Handle update_display_data messages\n */\nfunction handle_update_output(event, handle) {\n  handle_clear_output(event, {cell: {output_area: handle.output_area}})\n  handle_add_output(event, handle)\n}\n\nfunction register_renderer(events, OutputArea) {\n  function append_mime(data, metadata, element) {\n    // create a DOM node to render to\n    var toinsert = this.create_output_subarea(\n    metadata,\n    CLASS_NAME,\n    EXEC_MIME_TYPE\n    );\n    this.keyboard_manager.register_events(toinsert);\n    // Render to node\n    var props = {data: data, metadata: metadata[EXEC_MIME_TYPE]};\n    render(props, toinsert[0]);\n    element.append(toinsert);\n    return toinsert\n  }\n\n  events.on('output_added.OutputArea', handle_add_output);\n  events.on('output_updated.OutputArea', handle_update_output);\n  events.on('clear_output.CodeCell', handle_clear_output);\n  events.on('delete.Cell', handle_clear_output);\n  events.on('kernel_ready.Kernel', handle_kernel_cleanup);\n\n  OutputArea.prototype.register_mime_type(EXEC_MIME_TYPE, append_mime, {\n    safe: true,\n    index: 0\n  });\n}\n\nif (window.Jupyter !== undefined) {\n  try {\n    var events = require('base/js/events');\n    var OutputArea = require('notebook/js/outputarea').OutputArea;\n    if (OutputArea.prototype.mime_types().indexOf(EXEC_MIME_TYPE) == -1) {\n      register_renderer(events, OutputArea);\n    }\n  } catch(err) {\n  }\n}\n",
      "application/vnd.holoviews_load.v0+json": ""
     },
     "metadata": {},
     "output_type": "display_data"
    },
    {
     "data": {
      "text/html": [
       "<style>.bk-root, .bk-root .bk:before, .bk-root .bk:after {\n",
       "  font-family: var(--jp-ui-font-size1);\n",
       "  font-size: var(--jp-ui-font-size1);\n",
       "  color: var(--jp-ui-font-color1);\n",
       "}\n",
       "</style>"
      ]
     },
     "metadata": {},
     "output_type": "display_data"
    },
    {
     "name": "stdout",
     "output_type": "stream",
     "text": [
      "Launching server at http://localhost:45101\n"
     ]
    },
    {
     "data": {
      "text/plain": [
       "<bokeh.server.server.Server at 0x7f10d9b22cb0>"
      ]
     },
     "execution_count": 204,
     "metadata": {},
     "output_type": "execute_result"
    }
   ],
   "source": [
    "import panel as pn\n",
    "pn.extension()\n",
    "from bokeh.models import Dropdown\n",
    "\n",
    "menu = [(\"Item 1\", \"item_1\"), (\"Item 2\", \"item_2\"), None, (\"Item 3\", \"item_3\")]\n",
    "dropdown = Dropdown(label=\"Dropdown button\", button_type=\"warning\", menu=menu)\n",
    "\n",
    "# create widgets\n",
    "inter_methods = pn.interact(render_plot, \n",
    "                            station=list(df_all.station.unique()),\n",
    "                            year=[y for y in range(2000, 2019)], \n",
    "                            smoothing=['True', 'False'])\n",
    "\n",
    "# create dashboard and add widgets\n",
    "dashboard = pn.template.BootstrapTemplate(title='Weather data', sidebar_width=350, \n",
    "                                          theme = pn.template.theme.DarkTheme)\n",
    "dashboard.sidebar.append(inter_methods[0])\n",
    "dashboard.main.append(inter_methods[1])\n",
    "\n",
    "# show dashboard\n",
    "dashboard.show()"
   ]
  }
 ],
 "metadata": {
  "kernelspec": {
   "display_name": "Python 3 (ipykernel)",
   "language": "python",
   "name": "python3"
  },
  "language_info": {
   "codemirror_mode": {
    "name": "ipython",
    "version": 3
   },
   "file_extension": ".py",
   "mimetype": "text/x-python",
   "name": "python",
   "nbconvert_exporter": "python",
   "pygments_lexer": "ipython3",
   "version": "3.10.8"
  },
  "vscode": {
   "interpreter": {
    "hash": "6b91fa5cffef32cb10787a50fea9666676a7951181e01280b4644cd70c964bf4"
   }
  }
 },
 "nbformat": 4,
 "nbformat_minor": 2
}
